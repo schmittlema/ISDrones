{
 "metadata": {
  "name": "",
  "signature": "sha256:6143a37bbd5a473ad35babc3f2c9e8dbeed14940254fa5c68a0816ae085bbf3e"
 },
 "nbformat": 3,
 "nbformat_minor": 0,
 "worksheets": []
}